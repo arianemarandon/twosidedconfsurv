{
 "cells": [
  {
   "cell_type": "code",
   "execution_count": 1,
   "id": "61d40ac1-a9b6-4614-bb3f-d7918beed097",
   "metadata": {
    "scrolled": true
   },
   "outputs": [],
   "source": [
    "import numpy as np\n",
    "import pandas as pd\n",
    "import scipy.stats as stats \n",
    "import matplotlib.pyplot as plt\n",
    "import seaborn as sns\n",
    "import sklearn\n",
    "from sklearn.model_selection import train_test_split, GridSearchCV\n",
    "from sklearn.ensemble import RandomForestClassifier, GradientBoostingClassifier\n",
    "from sklearn.linear_model import LogisticRegression, QuantileRegressor\n",
    "from quantile_forest import RandomForestQuantileRegressor\n",
    "import sksurv\n",
    "from sksurv.preprocessing import OneHotEncoder\n",
    "from sksurv.linear_model import CoxPHSurvivalAnalysis\n",
    "from sksurv.ensemble import RandomSurvivalForest, ExtraSurvivalTrees, GradientBoostingSurvivalAnalysis"
   ]
  },
  {
   "cell_type": "code",
   "execution_count": 2,
   "id": "06e85ccd-548a-403b-9a5b-243e64987b69",
   "metadata": {},
   "outputs": [
    {
     "name": "stdout",
     "output_type": "stream",
     "text": [
      "numpy==2.1.1\n",
      "pandas==2.2.3\n",
      "seaborn==0.13.2\n",
      "sklearn==1.5.2\n",
      "sksurv==0.23.0\n"
     ]
    }
   ],
   "source": [
    "print('\\n'.join(f'{m.__name__}=={m.__version__}' for m in globals().values() if getattr(m, '__version__', None)))\n"
   ]
  },
  {
   "cell_type": "code",
   "execution_count": 3,
   "id": "6da925cc-46d7-42d0-bf45-204e194b5752",
   "metadata": {},
   "outputs": [],
   "source": [
    "from sksurv.datasets import load_veterans_lung_cancer, load_breast_cancer, load_whas500, load_gbsg2, load_flchain"
   ]
  },
  {
   "cell_type": "markdown",
   "id": "2927a5eb-203d-4981-b2b5-fe7179b7f08e",
   "metadata": {},
   "source": [
    "Data"
   ]
  },
  {
   "cell_type": "code",
   "execution_count": 4,
   "id": "1453edd5-1852-4816-a6a3-36584b46525c",
   "metadata": {},
   "outputs": [
    {
     "data": {
      "text/html": [
       "<div>\n",
       "<style scoped>\n",
       "    .dataframe tbody tr th:only-of-type {\n",
       "        vertical-align: middle;\n",
       "    }\n",
       "\n",
       "    .dataframe tbody tr th {\n",
       "        vertical-align: top;\n",
       "    }\n",
       "\n",
       "    .dataframe thead th {\n",
       "        text-align: right;\n",
       "    }\n",
       "</style>\n",
       "<table border=\"1\" class=\"dataframe\">\n",
       "  <thead>\n",
       "    <tr style=\"text-align: right;\">\n",
       "      <th></th>\n",
       "      <th>afb</th>\n",
       "      <th>age</th>\n",
       "      <th>av3</th>\n",
       "      <th>bmi</th>\n",
       "      <th>chf</th>\n",
       "      <th>cvd</th>\n",
       "      <th>diasbp</th>\n",
       "      <th>gender</th>\n",
       "      <th>hr</th>\n",
       "      <th>los</th>\n",
       "      <th>miord</th>\n",
       "      <th>mitype</th>\n",
       "      <th>sho</th>\n",
       "      <th>sysbp</th>\n",
       "    </tr>\n",
       "  </thead>\n",
       "  <tbody>\n",
       "    <tr>\n",
       "      <th>0</th>\n",
       "      <td>1</td>\n",
       "      <td>83.0</td>\n",
       "      <td>0</td>\n",
       "      <td>25.54051</td>\n",
       "      <td>0</td>\n",
       "      <td>1</td>\n",
       "      <td>78.0</td>\n",
       "      <td>0</td>\n",
       "      <td>89.0</td>\n",
       "      <td>5.0</td>\n",
       "      <td>1</td>\n",
       "      <td>0</td>\n",
       "      <td>0</td>\n",
       "      <td>152.0</td>\n",
       "    </tr>\n",
       "    <tr>\n",
       "      <th>1</th>\n",
       "      <td>0</td>\n",
       "      <td>49.0</td>\n",
       "      <td>0</td>\n",
       "      <td>24.02398</td>\n",
       "      <td>0</td>\n",
       "      <td>1</td>\n",
       "      <td>60.0</td>\n",
       "      <td>0</td>\n",
       "      <td>84.0</td>\n",
       "      <td>5.0</td>\n",
       "      <td>0</td>\n",
       "      <td>1</td>\n",
       "      <td>0</td>\n",
       "      <td>120.0</td>\n",
       "    </tr>\n",
       "    <tr>\n",
       "      <th>2</th>\n",
       "      <td>0</td>\n",
       "      <td>70.0</td>\n",
       "      <td>0</td>\n",
       "      <td>22.14290</td>\n",
       "      <td>0</td>\n",
       "      <td>0</td>\n",
       "      <td>88.0</td>\n",
       "      <td>1</td>\n",
       "      <td>83.0</td>\n",
       "      <td>5.0</td>\n",
       "      <td>0</td>\n",
       "      <td>1</td>\n",
       "      <td>0</td>\n",
       "      <td>147.0</td>\n",
       "    </tr>\n",
       "    <tr>\n",
       "      <th>3</th>\n",
       "      <td>0</td>\n",
       "      <td>70.0</td>\n",
       "      <td>0</td>\n",
       "      <td>26.63187</td>\n",
       "      <td>1</td>\n",
       "      <td>1</td>\n",
       "      <td>76.0</td>\n",
       "      <td>0</td>\n",
       "      <td>65.0</td>\n",
       "      <td>10.0</td>\n",
       "      <td>0</td>\n",
       "      <td>1</td>\n",
       "      <td>0</td>\n",
       "      <td>123.0</td>\n",
       "    </tr>\n",
       "    <tr>\n",
       "      <th>4</th>\n",
       "      <td>0</td>\n",
       "      <td>70.0</td>\n",
       "      <td>0</td>\n",
       "      <td>24.41255</td>\n",
       "      <td>0</td>\n",
       "      <td>1</td>\n",
       "      <td>85.0</td>\n",
       "      <td>0</td>\n",
       "      <td>63.0</td>\n",
       "      <td>6.0</td>\n",
       "      <td>0</td>\n",
       "      <td>1</td>\n",
       "      <td>0</td>\n",
       "      <td>135.0</td>\n",
       "    </tr>\n",
       "  </tbody>\n",
       "</table>\n",
       "</div>"
      ],
      "text/plain": [
       "  afb   age av3       bmi chf cvd  diasbp gender    hr   los miord mitype sho  \\\n",
       "0   1  83.0   0  25.54051   0   1    78.0      0  89.0   5.0     1      0   0   \n",
       "1   0  49.0   0  24.02398   0   1    60.0      0  84.0   5.0     0      1   0   \n",
       "2   0  70.0   0  22.14290   0   0    88.0      1  83.0   5.0     0      1   0   \n",
       "3   0  70.0   0  26.63187   1   1    76.0      0  65.0  10.0     0      1   0   \n",
       "4   0  70.0   0  24.41255   0   1    85.0      0  63.0   6.0     0      1   0   \n",
       "\n",
       "   sysbp  \n",
       "0  152.0  \n",
       "1  120.0  \n",
       "2  147.0  \n",
       "3  123.0  \n",
       "4  135.0  "
      ]
     },
     "execution_count": 4,
     "metadata": {},
     "output_type": "execute_result"
    }
   ],
   "source": [
    "data_x, data_y = load_whas500()\n",
    "data_x_numeric = OneHotEncoder().fit_transform(data_x).to_numpy()\n",
    "data_x.head()"
   ]
  },
  {
   "cell_type": "markdown",
   "id": "ccf47f69-459b-496a-8f4e-5755a72597c5",
   "metadata": {},
   "source": [
    "Censored outcome distribution"
   ]
  },
  {
   "cell_type": "code",
   "execution_count": 5,
   "id": "a0ba7aad-e9ba-419c-b848-6a9a4b796ba8",
   "metadata": {
    "scrolled": true
   },
   "outputs": [
    {
     "data": {
      "image/png": "[encoded data removed]",
      "text/plain": [
       "<Figure size 300x300 with 1 Axes>"
      ]
     },
     "metadata": {},
     "output_type": "display_data"
    }
   ],
   "source": [
    "plt.figure(figsize=(3,3))\n",
    "event, censored_outcome = zip(*data_y) \n",
    "event, censored_outcome = np.array(list(event)), np.array(list(censored_outcome))\n",
    "plt.hist(censored_outcome[event==False], bins=50, label='0')\n",
    "plt.hist(censored_outcome[event==True], bins=50, alpha=0.5, label='1')\n",
    "plt.legend();plt.show()"
   ]
  },
  {
   "cell_type": "markdown",
   "id": "86ef83a7-8944-41d3-b0cc-bedcda30ddfd",
   "metadata": {},
   "source": [
    "Two-sided conformal procedure"
   ]
  },
  {
   "cell_type": "code",
   "execution_count": 6,
   "id": "34ab249d-d6f5-4735-9986-19e58a21b66c",
   "metadata": {},
   "outputs": [],
   "source": [
    "from proc import TwoSidedCP\n",
    "from scores import surv_cdf_score, quantile_based_score, reg_quantile_based_score\n",
    "from misc import compute_error_bounds"
   ]
  },
  {
   "cell_type": "code",
   "execution_count": 7,
   "id": "2dbceda0-45b2-458d-8f2a-1ac32478dfbe",
   "metadata": {},
   "outputs": [],
   "source": [
    "clf_model=RandomForestClassifier()\n",
    "clf_parameters_grid = {'max_depth':[2, 5, 10, None],'max_samples':[0.8, None] }\n",
    "surv_model = GradientBoostingSurvivalAnalysis(n_estimators=500)\n",
    "surv_parameters_grid={\"estimator__learning_rate\": [1e-2, 0.1, 0.2], \n",
    "                      \"estimator__max_depth\":np.arange(1,5,dtype=np.int32),\n",
    "                      \"estimator__subsample\":[0.8, 1.]}\n",
    "level=0.2"
   ]
  },
  {
   "cell_type": "code",
   "execution_count": 8,
   "id": "9b6d6c4e-d459-492b-b7ed-4df299283af7",
   "metadata": {},
   "outputs": [],
   "source": [
    "random_state=2024\n",
    "\n",
    "#split data into train/test sets\n",
    "X_train, X_test, Y_train, Y_test = train_test_split(data_x_numeric, data_y, test_size=0.2, random_state=random_state) \n",
    "\n",
    "meth=TwoSidedCP(X_train, Y_train, \n",
    "                alpha0=level/2, alpha1=level/2,\n",
    "                                  black_box_surv =surv_cdf_score(model=surv_model), \n",
    "                                  black_box_event=clf_model, \n",
    "                                  black_box_lb =None,\n",
    "                                  clf_parameters_grid=clf_parameters_grid, \n",
    "                                  surv_parameters_grid=surv_parameters_grid, \n",
    "                                  random_state=random_state)\n",
    "                    \n",
    "S, event_pred =meth.predict(X_test) "
   ]
  },
  {
   "cell_type": "markdown",
   "id": "b9c3a495-1264-40bd-85f9-3442f6d91974",
   "metadata": {},
   "source": [
    "Compute coverage bounds and power metrics"
   ]
  },
  {
   "cell_type": "code",
   "execution_count": 9,
   "id": "7708ce79-38d7-44bb-aec1-6c8d5b023c57",
   "metadata": {},
   "outputs": [
    {
     "name": "stdout",
     "output_type": "stream",
     "text": [
      "Coverage (lower bound, upper bound): 0.85 0.92\n"
     ]
    }
   ],
   "source": [
    "#LB and UB on true coverage\n",
    "err_lo, err_up= compute_error_bounds(Y_test, S, event_pred)\n",
    "cov_lo, cov_up=1-err_lo, 1-err_up\n",
    "print(\"Coverage (lower bound, upper bound):\",cov_lo, cov_up) "
   ]
  },
  {
   "cell_type": "code",
   "execution_count": 10,
   "id": "543a0947-123a-4346-8a43-df2ecacce3cf",
   "metadata": {},
   "outputs": [
    {
     "name": "stdout",
     "output_type": "stream",
     "text": [
      "Positive rate 0.29\n"
     ]
    },
    {
     "data": {
      "image/png": "[encoded data removed]",
      "text/plain": [
       "<Figure size 600x300 with 2 Axes>"
      ]
     },
     "metadata": {},
     "output_type": "display_data"
    }
   ],
   "source": [
    "# Power metrics\n",
    "m=len(Y_test)\n",
    "lower_bounds, upper_bounds = zip(*S) \n",
    "lower_bounds, upper_bounds = np.array(lower_bounds), np.array(upper_bounds)\n",
    "positives = (event_pred==1)\n",
    "negatives = (event_pred==0)\n",
    "\n",
    "# Two-sided prediction rate\n",
    "positive_rate = np.sum(positives)/m \n",
    "print(\"Positive rate\", positive_rate)\n",
    "\n",
    "# Two-sided or one-sided interval length \n",
    "positives_length= upper_bounds[positives]-lower_bounds[positives]\n",
    "negatives_length= lower_bounds[negatives]\n",
    "\n",
    "plt.figure(figsize=(6,3))\n",
    "\n",
    "plt.subplot(121)\n",
    "sns.violinplot(x=positives_length, fill=False); plt.title(\"Interval length\"+\"\\n on two-sided predictions\")\n",
    "\n",
    "plt.subplot(122)\n",
    "sns.violinplot(x=negatives_length, fill=False); plt.title(\"LB value\"+\"\\n on one-sided predictions\")\n",
    "plt.xlim(0,None)\n",
    "\n",
    "plt.show()"
   ]
  }
 ],
 "metadata": {
  "kernelspec": {
   "display_name": "Python 3 (ipykernel)",
   "language": "python",
   "name": "python3"
  },
  "language_info": {
   "codemirror_mode": {
    "name": "ipython",
    "version": 3
   },
   "file_extension": ".py",
   "mimetype": "text/x-python",
   "name": "python",
   "nbconvert_exporter": "python",
   "pygments_lexer": "ipython3",
   "version": "3.10.10"
  }
 },
 "nbformat": 4,
 "nbformat_minor": 5
}
